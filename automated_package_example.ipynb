{
 "cells": [
  {
   "cell_type": "code",
   "execution_count": 1,
   "metadata": {},
   "outputs": [],
   "source": [
    "import numpy as np\n",
    "import pylab as plt\n",
    "import planet_search as ps"
   ]
  },
  {
   "cell_type": "code",
   "execution_count": 3,
   "metadata": {},
   "outputs": [
    {
     "name": "stderr",
     "output_type": "stream",
     "text": [
      "\r",
      "  0%|          | 0/2544 periods | 00:00<?"
     ]
    },
    {
     "name": "stdout",
     "output_type": "stream",
     "text": [
      "Running TLS for planet 1 (sector(s) 14)\n",
      "Transit Least Squares TLS 1.0.28 (13 June 2021)\n",
      "Creating model cache for 40 durations\n",
      "Searching 18380 data points, 2544 periods from 0.601 to 16.985 days\n",
      "Using all 8 CPU threads\n"
     ]
    },
    {
     "name": "stderr",
     "output_type": "stream",
     "text": [
      "100%|██████████| 2544/2544 periods | 00:26<00:00\n",
      "  3%|▎         | 258/9989 [00:00<00:07, 1301.66it/s]"
     ]
    },
    {
     "name": "stdout",
     "output_type": "stream",
     "text": [
      "Searching for best T0 for period 2.28246 days\n"
     ]
    },
    {
     "name": "stderr",
     "output_type": "stream",
     "text": [
      "100%|██████████| 9989/9989 [00:03<00:00, 3134.28it/s]\n",
      "  0%|          | 0/2544 periods | 00:00<?"
     ]
    },
    {
     "name": "stdout",
     "output_type": "stream",
     "text": [
      "Running TLS for planet 2 (sector(s) 14)\n",
      "Transit Least Squares TLS 1.0.28 (13 June 2021)\n",
      "Creating model cache for 40 durations\n",
      "Searching 18013 data points, 2544 periods from 0.601 to 16.985 days\n",
      "Using all 8 CPU threads\n"
     ]
    },
    {
     "name": "stderr",
     "output_type": "stream",
     "text": [
      "100%|██████████| 2544/2544 periods | 00:25<00:00\n",
      "  0%|          | 0/2544 periods | 00:00<?"
     ]
    },
    {
     "name": "stdout",
     "output_type": "stream",
     "text": [
      "Running TLS for planet 3 (sector(s) 14)\n",
      "Transit Least Squares TLS 1.0.28 (13 June 2021)\n",
      "Creating model cache for 40 durations\n",
      "Searching 17025 data points, 2544 periods from 0.601 to 16.985 days\n",
      "Using all 8 CPU threads\n"
     ]
    },
    {
     "name": "stderr",
     "output_type": "stream",
     "text": [
      "100%|██████████| 2544/2544 periods | 00:23<00:00\n",
      "  3%|▎         | 297/10983 [00:00<00:07, 1487.60it/s]"
     ]
    },
    {
     "name": "stdout",
     "output_type": "stream",
     "text": [
      "Searching for best T0 for period 4.34654 days\n"
     ]
    },
    {
     "name": "stderr",
     "output_type": "stream",
     "text": [
      "100%|██████████| 10983/10983 [00:02<00:00, 3755.33it/s]\n"
     ]
    },
    {
     "name": "stdout",
     "output_type": "stream",
     "text": [
      "Running TLS for planet 1 (sector(s) 18-20)\n"
     ]
    },
    {
     "name": "stderr",
     "output_type": "stream",
     "text": [
      "\r",
      "  0%|          | 0/8425 periods | 00:00<?"
     ]
    },
    {
     "name": "stdout",
     "output_type": "stream",
     "text": [
      "Transit Least Squares TLS 1.0.28 (13 June 2021)\n",
      "Creating model cache for 46 durations\n",
      "Searching 46919 data points, 8425 periods from 0.602 to 45.98 days\n",
      "Using all 8 CPU threads\n"
     ]
    },
    {
     "name": "stderr",
     "output_type": "stream",
     "text": [
      "100%|██████████| 8425/8425 periods | 02:24<00:00\n",
      "  0%|          | 35/46919 [00:00<02:18, 339.71it/s]"
     ]
    },
    {
     "name": "stdout",
     "output_type": "stream",
     "text": [
      "Searching for best T0 for period 0.95972 days\n"
     ]
    },
    {
     "name": "stderr",
     "output_type": "stream",
     "text": [
      "100%|██████████| 46919/46919 [00:43<00:00, 1082.35it/s]\n",
      "/Users/ryancloutier/anaconda3/envs/myenv/lib/python3.8/site-packages/numpy/core/_methods.py:216: RuntimeWarning: Degrees of freedom <= 0 for slice\n",
      "  ret = _var(a, axis=axis, dtype=dtype, out=out, ddof=ddof,\n",
      "/Users/ryancloutier/anaconda3/envs/myenv/lib/python3.8/site-packages/numpy/core/_methods.py:185: RuntimeWarning: invalid value encountered in true_divide\n",
      "  arrmean = um.true_divide(\n",
      "/Users/ryancloutier/anaconda3/envs/myenv/lib/python3.8/site-packages/numpy/core/_methods.py:209: RuntimeWarning: invalid value encountered in double_scalars\n",
      "  ret = ret.dtype.type(ret / rcount)\n"
     ]
    },
    {
     "name": "stdout",
     "output_type": "stream",
     "text": [
      "Running TLS for planet 2 (sector(s) 18-20)\n"
     ]
    },
    {
     "name": "stderr",
     "output_type": "stream",
     "text": [
      "\r",
      "  0%|          | 0/8425 periods | 00:00<?"
     ]
    },
    {
     "name": "stdout",
     "output_type": "stream",
     "text": [
      "Transit Least Squares TLS 1.0.28 (13 June 2021)\n",
      "Creating model cache for 46 durations\n",
      "Searching 46775 data points, 8425 periods from 0.602 to 45.98 days\n",
      "Using all 8 CPU threads\n"
     ]
    },
    {
     "name": "stderr",
     "output_type": "stream",
     "text": [
      "100%|██████████| 8425/8425 periods | 02:14<00:00\n",
      "  0%|          | 34/46775 [00:00<02:18, 337.06it/s]"
     ]
    },
    {
     "name": "stdout",
     "output_type": "stream",
     "text": [
      "Searching for best T0 for period 0.95972 days\n"
     ]
    },
    {
     "name": "stderr",
     "output_type": "stream",
     "text": [
      "100%|██████████| 46775/46775 [00:42<00:00, 1096.02it/s]\n",
      "/Users/ryancloutier/anaconda3/envs/myenv/lib/python3.8/site-packages/numpy/core/_methods.py:216: RuntimeWarning: Degrees of freedom <= 0 for slice\n",
      "  ret = _var(a, axis=axis, dtype=dtype, out=out, ddof=ddof,\n",
      "/Users/ryancloutier/anaconda3/envs/myenv/lib/python3.8/site-packages/numpy/core/_methods.py:185: RuntimeWarning: invalid value encountered in true_divide\n",
      "  arrmean = um.true_divide(\n",
      "/Users/ryancloutier/anaconda3/envs/myenv/lib/python3.8/site-packages/numpy/core/_methods.py:209: RuntimeWarning: invalid value encountered in double_scalars\n",
      "  ret = ret.dtype.type(ret / rcount)\n"
     ]
    },
    {
     "name": "stdout",
     "output_type": "stream",
     "text": [
      "Running TLS for planet 3 (sector(s) 18-20)\n"
     ]
    },
    {
     "name": "stderr",
     "output_type": "stream",
     "text": [
      "\r",
      "  0%|          | 0/8425 periods | 00:00<?"
     ]
    },
    {
     "name": "stdout",
     "output_type": "stream",
     "text": [
      "Transit Least Squares TLS 1.0.28 (13 June 2021)\n",
      "Creating model cache for 46 durations\n",
      "Searching 46632 data points, 8425 periods from 0.602 to 45.98 days\n",
      "Using all 8 CPU threads\n"
     ]
    },
    {
     "name": "stderr",
     "output_type": "stream",
     "text": [
      "100%|██████████| 8425/8425 periods | 02:12<00:00\n",
      "  0%|          | 33/46632 [00:00<02:23, 324.47it/s]"
     ]
    },
    {
     "name": "stdout",
     "output_type": "stream",
     "text": [
      "Searching for best T0 for period 0.78022 days\n"
     ]
    },
    {
     "name": "stderr",
     "output_type": "stream",
     "text": [
      "100%|██████████| 46632/46632 [00:47<00:00, 988.25it/s] \n",
      "/Users/ryancloutier/anaconda3/envs/myenv/lib/python3.8/site-packages/numpy/core/_methods.py:216: RuntimeWarning: Degrees of freedom <= 0 for slice\n",
      "  ret = _var(a, axis=axis, dtype=dtype, out=out, ddof=ddof,\n",
      "/Users/ryancloutier/anaconda3/envs/myenv/lib/python3.8/site-packages/numpy/core/_methods.py:185: RuntimeWarning: invalid value encountered in true_divide\n",
      "  arrmean = um.true_divide(\n",
      "/Users/ryancloutier/anaconda3/envs/myenv/lib/python3.8/site-packages/numpy/core/_methods.py:209: RuntimeWarning: invalid value encountered in double_scalars\n",
      "  ret = ret.dtype.type(ret / rcount)\n"
     ]
    },
    {
     "name": "stdout",
     "output_type": "stream",
     "text": [
      "Running TLS for planet 1 (sector(s) 25-26)\n"
     ]
    },
    {
     "name": "stderr",
     "output_type": "stream",
     "text": [
      "\r",
      "  0%|          | 0/5388 periods | 00:00<?"
     ]
    },
    {
     "name": "stdout",
     "output_type": "stream",
     "text": [
      "Transit Least Squares TLS 1.0.28 (13 June 2021)\n",
      "Creating model cache for 45 durations\n",
      "Searching 34092 data points, 5388 periods from 0.602 to 34.966 days\n",
      "Using all 8 CPU threads\n"
     ]
    },
    {
     "name": "stderr",
     "output_type": "stream",
     "text": [
      "100%|██████████| 5388/5388 periods | 01:24<00:00\n",
      "  0%|          | 102/26024 [00:00<00:50, 515.22it/s]"
     ]
    },
    {
     "name": "stdout",
     "output_type": "stream",
     "text": [
      "Searching for best T0 for period 1.04498 days\n"
     ]
    },
    {
     "name": "stderr",
     "output_type": "stream",
     "text": [
      "100%|██████████| 26024/26024 [00:17<00:00, 1478.59it/s]\n"
     ]
    },
    {
     "name": "stdout",
     "output_type": "stream",
     "text": [
      "Running TLS for planet 2 (sector(s) 25-26)\n"
     ]
    },
    {
     "name": "stderr",
     "output_type": "stream",
     "text": [
      "\r",
      "  0%|          | 0/5388 periods | 00:00<?"
     ]
    },
    {
     "name": "stdout",
     "output_type": "stream",
     "text": [
      "Transit Least Squares TLS 1.0.28 (13 June 2021)\n",
      "Creating model cache for 45 durations\n",
      "Searching 33846 data points, 5388 periods from 0.602 to 34.966 days\n",
      "Using all 8 CPU threads\n"
     ]
    },
    {
     "name": "stderr",
     "output_type": "stream",
     "text": [
      "100%|██████████| 5388/5388 periods | 01:20<00:00\n",
      "  0%|          | 52/23668 [00:00<00:46, 510.63it/s]"
     ]
    },
    {
     "name": "stdout",
     "output_type": "stream",
     "text": [
      "Searching for best T0 for period 0.93730 days\n"
     ]
    },
    {
     "name": "stderr",
     "output_type": "stream",
     "text": [
      "100%|██████████| 23668/23668 [00:16<00:00, 1439.41it/s]\n"
     ]
    },
    {
     "name": "stdout",
     "output_type": "stream",
     "text": [
      "Running TLS for planet 3 (sector(s) 25-26)\n"
     ]
    },
    {
     "name": "stderr",
     "output_type": "stream",
     "text": [
      "\r",
      "  0%|          | 0/5388 periods | 00:00<?"
     ]
    },
    {
     "name": "stdout",
     "output_type": "stream",
     "text": [
      "Transit Least Squares TLS 1.0.28 (13 June 2021)\n",
      "Creating model cache for 45 durations\n",
      "Searching 33581 data points, 5388 periods from 0.602 to 34.966 days\n",
      "Using all 8 CPU threads\n"
     ]
    },
    {
     "name": "stderr",
     "output_type": "stream",
     "text": [
      "100%|██████████| 5388/5388 periods | 01:15<00:00\n",
      "  0%|          | 58/26031 [00:00<00:45, 574.05it/s]"
     ]
    },
    {
     "name": "stdout",
     "output_type": "stream",
     "text": [
      "Searching for best T0 for period 1.58214 days\n"
     ]
    },
    {
     "name": "stderr",
     "output_type": "stream",
     "text": [
      "100%|██████████| 26031/26031 [00:17<00:00, 1498.16it/s]\n"
     ]
    },
    {
     "name": "stdout",
     "output_type": "stream",
     "text": [
      "Running TLS for planet 1 (sector(s) 40-41)\n"
     ]
    },
    {
     "name": "stderr",
     "output_type": "stream",
     "text": [
      "\r",
      "  0%|          | 0/5889 periods | 00:00<?"
     ]
    },
    {
     "name": "stdout",
     "output_type": "stream",
     "text": [
      "Transit Least Squares TLS 1.0.28 (13 June 2021)\n",
      "Creating model cache for 45 durations\n",
      "Searching 37852 data points, 5889 periods from 0.601 to 36.999 days\n",
      "Using all 8 CPU threads\n"
     ]
    },
    {
     "name": "stderr",
     "output_type": "stream",
     "text": [
      "100%|██████████| 5889/5889 periods | 01:41<00:00\n"
     ]
    },
    {
     "name": "stdout",
     "output_type": "stream",
     "text": [
      "Running TLS for planet 2 (sector(s) 40-41)\n"
     ]
    },
    {
     "name": "stderr",
     "output_type": "stream",
     "text": [
      "\r",
      "  0%|          | 0/5889 periods | 00:00<?"
     ]
    },
    {
     "name": "stdout",
     "output_type": "stream",
     "text": [
      "Transit Least Squares TLS 1.0.28 (13 June 2021)\n",
      "Creating model cache for 45 durations\n",
      "Searching 35919 data points, 5889 periods from 0.601 to 36.999 days\n",
      "Using all 8 CPU threads\n"
     ]
    },
    {
     "name": "stderr",
     "output_type": "stream",
     "text": [
      "100%|██████████| 5889/5889 periods | 01:37<00:00\n"
     ]
    },
    {
     "name": "stdout",
     "output_type": "stream",
     "text": [
      "Running TLS for planet 3 (sector(s) 40-41)\n"
     ]
    },
    {
     "name": "stderr",
     "output_type": "stream",
     "text": [
      "\r",
      "  0%|          | 0/5889 periods | 00:00<?"
     ]
    },
    {
     "name": "stdout",
     "output_type": "stream",
     "text": [
      "Transit Least Squares TLS 1.0.28 (13 June 2021)\n",
      "Creating model cache for 45 durations\n",
      "Searching 34127 data points, 5889 periods from 0.601 to 36.999 days\n",
      "Using all 8 CPU threads\n"
     ]
    },
    {
     "name": "stderr",
     "output_type": "stream",
     "text": [
      "100%|██████████| 5889/5889 periods | 01:33<00:00\n",
      "  0%|          | 0/2493 periods | 00:00<?"
     ]
    },
    {
     "name": "stdout",
     "output_type": "stream",
     "text": [
      "Running TLS for planet 1 (sector(s) 20)\n",
      "Transit Least Squares TLS 1.0.28 (13 June 2021)\n",
      "Creating model cache for 40 durations\n",
      "Searching 16494 data points, 2493 periods from 0.601 to 16.964 days\n",
      "Using all 8 CPU threads\n"
     ]
    },
    {
     "name": "stderr",
     "output_type": "stream",
     "text": [
      "100%|██████████| 2493/2493 periods | 00:19<00:00\n",
      "  0%|          | 0/2493 periods | 00:00<?"
     ]
    },
    {
     "name": "stdout",
     "output_type": "stream",
     "text": [
      "Running TLS for planet 2 (sector(s) 20)\n",
      "Transit Least Squares TLS 1.0.28 (13 June 2021)\n",
      "Creating model cache for 40 durations\n",
      "Searching 15746 data points, 2493 periods from 0.601 to 16.964 days\n",
      "Using all 8 CPU threads\n"
     ]
    },
    {
     "name": "stderr",
     "output_type": "stream",
     "text": [
      "100%|██████████| 2493/2493 periods | 00:20<00:00\n",
      "  0%|          | 0/2493 periods | 00:00<?"
     ]
    },
    {
     "name": "stdout",
     "output_type": "stream",
     "text": [
      "Running TLS for planet 3 (sector(s) 20)\n",
      "Transit Least Squares TLS 1.0.28 (13 June 2021)\n",
      "Creating model cache for 40 durations\n",
      "Searching 15064 data points, 2493 periods from 0.601 to 16.964 days\n",
      "Using all 8 CPU threads\n"
     ]
    },
    {
     "name": "stderr",
     "output_type": "stream",
     "text": [
      "100%|██████████| 2493/2493 periods | 00:17<00:00\n"
     ]
    },
    {
     "name": "stdout",
     "output_type": "stream",
     "text": [
      "Running TLS for planet 1 (sector(s) 19-20)\n"
     ]
    },
    {
     "name": "stderr",
     "output_type": "stream",
     "text": [
      "\r",
      "  0%|          | 0/5499 periods | 00:00<?"
     ]
    },
    {
     "name": "stdout",
     "output_type": "stream",
     "text": [
      "Transit Least Squares TLS 1.0.28 (13 June 2021)\n",
      "Creating model cache for 44 durations\n",
      "Searching 33035 data points, 5499 periods from 0.602 to 33.987 days\n",
      "Using all 8 CPU threads\n"
     ]
    },
    {
     "name": "stderr",
     "output_type": "stream",
     "text": [
      "100%|██████████| 5499/5499 periods | 01:08<00:00\n",
      "  1%|          | 66/7373 [00:00<00:11, 659.57it/s]"
     ]
    },
    {
     "name": "stdout",
     "output_type": "stream",
     "text": [
      "Searching for best T0 for period 1.97756 days\n"
     ]
    },
    {
     "name": "stderr",
     "output_type": "stream",
     "text": [
      "100%|██████████| 7373/7373 [00:04<00:00, 1647.24it/s]\n"
     ]
    },
    {
     "name": "stdout",
     "output_type": "stream",
     "text": [
      "Running TLS for planet 2 (sector(s) 19-20)\n"
     ]
    },
    {
     "name": "stderr",
     "output_type": "stream",
     "text": [
      "\r",
      "  0%|          | 0/5499 periods | 00:00<?"
     ]
    },
    {
     "name": "stdout",
     "output_type": "stream",
     "text": [
      "Transit Least Squares TLS 1.0.28 (13 June 2021)\n",
      "Creating model cache for 44 durations\n",
      "Searching 32261 data points, 5499 periods from 0.602 to 33.987 days\n",
      "Using all 8 CPU threads\n"
     ]
    },
    {
     "name": "stderr",
     "output_type": "stream",
     "text": [
      "100%|██████████| 5499/5499 periods | 01:08<00:00\n"
     ]
    },
    {
     "name": "stdout",
     "output_type": "stream",
     "text": [
      "Running TLS for planet 3 (sector(s) 19-20)\n"
     ]
    },
    {
     "name": "stderr",
     "output_type": "stream",
     "text": [
      "\r",
      "  0%|          | 0/5499 periods | 00:00<?"
     ]
    },
    {
     "name": "stdout",
     "output_type": "stream",
     "text": [
      "Transit Least Squares TLS 1.0.28 (13 June 2021)\n",
      "Creating model cache for 44 durations\n",
      "Searching 31110 data points, 5499 periods from 0.602 to 33.987 days\n",
      "Using all 8 CPU threads\n"
     ]
    },
    {
     "name": "stderr",
     "output_type": "stream",
     "text": [
      "100%|██████████| 5499/5499 periods | 01:05<00:00\n",
      "  1%|          | 64/5535 [00:00<00:08, 637.78it/s]"
     ]
    },
    {
     "name": "stdout",
     "output_type": "stream",
     "text": [
      "Searching for best T0 for period 1.79510 days\n"
     ]
    },
    {
     "name": "stderr",
     "output_type": "stream",
     "text": [
      "100%|██████████| 5535/5535 [00:03<00:00, 1425.12it/s]\n",
      "  0%|          | 0/2332 periods | 00:00<?"
     ]
    },
    {
     "name": "stdout",
     "output_type": "stream",
     "text": [
      "Running TLS for planet 1 (sector(s) 26)\n",
      "Transit Least Squares TLS 1.0.28 (13 June 2021)\n",
      "Creating model cache for 39 durations\n",
      "Searching 16738 data points, 2332 periods from 0.602 to 15.981 days\n",
      "Using all 8 CPU threads\n"
     ]
    },
    {
     "name": "stderr",
     "output_type": "stream",
     "text": [
      "100%|██████████| 2332/2332 periods | 00:20<00:00\n",
      "  2%|▏         | 132/5399 [00:00<00:04, 1315.33it/s]"
     ]
    },
    {
     "name": "stdout",
     "output_type": "stream",
     "text": [
      "Searching for best T0 for period 1.34689 days\n"
     ]
    },
    {
     "name": "stderr",
     "output_type": "stream",
     "text": [
      "100%|██████████| 5399/5399 [00:01<00:00, 2858.65it/s]\n",
      "  0%|          | 0/2332 periods | 00:00<?"
     ]
    },
    {
     "name": "stdout",
     "output_type": "stream",
     "text": [
      "Running TLS for planet 2 (sector(s) 26)\n",
      "Transit Least Squares TLS 1.0.28 (13 June 2021)\n",
      "Creating model cache for 39 durations\n",
      "Searching 16180 data points, 2332 periods from 0.602 to 15.981 days\n",
      "Using all 8 CPU threads\n"
     ]
    },
    {
     "name": "stderr",
     "output_type": "stream",
     "text": [
      "100%|██████████| 2332/2332 periods | 00:20<00:00\n",
      "  2%|▏         | 135/5926 [00:00<00:04, 1341.70it/s]"
     ]
    },
    {
     "name": "stdout",
     "output_type": "stream",
     "text": [
      "Searching for best T0 for period 1.50615 days\n"
     ]
    },
    {
     "name": "stderr",
     "output_type": "stream",
     "text": [
      "100%|██████████| 5926/5926 [00:02<00:00, 2954.85it/s]\n",
      "  0%|          | 0/2332 periods | 00:00<?"
     ]
    },
    {
     "name": "stdout",
     "output_type": "stream",
     "text": [
      "Running TLS for planet 3 (sector(s) 26)\n",
      "Transit Least Squares TLS 1.0.28 (13 June 2021)\n",
      "Creating model cache for 39 durations\n",
      "Searching 15660 data points, 2332 periods from 0.602 to 15.981 days\n",
      "Using all 8 CPU threads\n"
     ]
    },
    {
     "name": "stderr",
     "output_type": "stream",
     "text": [
      "100%|██████████| 2332/2332 periods | 00:20<00:00\n",
      "  2%|▏         | 164/8700 [00:00<00:05, 1636.71it/s]"
     ]
    },
    {
     "name": "stdout",
     "output_type": "stream",
     "text": [
      "Searching for best T0 for period 3.76199 days\n"
     ]
    },
    {
     "name": "stderr",
     "output_type": "stream",
     "text": [
      "100%|██████████| 8700/8700 [00:02<00:00, 3673.58it/s]\n",
      "  0%|          | 0/2696 periods | 00:00<?"
     ]
    },
    {
     "name": "stdout",
     "output_type": "stream",
     "text": [
      "Running TLS for planet 1 (sector(s) 40)\n",
      "Transit Least Squares TLS 1.0.28 (13 June 2021)\n",
      "Creating model cache for 40 durations\n",
      "Searching 18724 data points, 2696 periods from 0.601 to 17.958 days\n",
      "Using all 8 CPU threads\n"
     ]
    },
    {
     "name": "stderr",
     "output_type": "stream",
     "text": [
      "100%|██████████| 2696/2696 periods | 00:26<00:00\n",
      "  0%|          | 0/2696 periods | 00:00<?"
     ]
    },
    {
     "name": "stdout",
     "output_type": "stream",
     "text": [
      "Running TLS for planet 2 (sector(s) 40)\n",
      "Transit Least Squares TLS 1.0.28 (13 June 2021)\n",
      "Creating model cache for 40 durations\n",
      "Searching 17868 data points, 2696 periods from 0.601 to 17.958 days\n",
      "Using all 8 CPU threads\n"
     ]
    },
    {
     "name": "stderr",
     "output_type": "stream",
     "text": [
      "100%|██████████| 2696/2696 periods | 00:24<00:00\n",
      "  1%|          | 104/17868 [00:00<00:17, 1035.84it/s]"
     ]
    },
    {
     "name": "stdout",
     "output_type": "stream",
     "text": [
      "Searching for best T0 for period 0.64105 days\n"
     ]
    },
    {
     "name": "stderr",
     "output_type": "stream",
     "text": [
      "100%|██████████| 17868/17868 [00:06<00:00, 2635.96it/s]\n",
      "/Users/ryancloutier/anaconda3/envs/myenv/lib/python3.8/site-packages/transitleastsquares/stats.py:456: RuntimeWarning: divide by zero encountered in double_scalars\n",
      "  snr_pink_per_transit[i] = (1 - mean_flux) / pinknoise\n",
      "  0%|          | 0/2696 periods | 00:00<?"
     ]
    },
    {
     "name": "stdout",
     "output_type": "stream",
     "text": [
      "Running TLS for planet 3 (sector(s) 40)\n",
      "Transit Least Squares TLS 1.0.28 (13 June 2021)\n",
      "Creating model cache for 40 durations\n",
      "Searching 17723 data points, 2696 periods from 0.601 to 17.958 days\n",
      "Using all 8 CPU threads\n"
     ]
    },
    {
     "name": "stderr",
     "output_type": "stream",
     "text": [
      "100%|██████████| 2696/2696 periods | 00:24<00:00\n",
      "  1%|          | 107/17723 [00:00<00:16, 1062.82it/s]"
     ]
    },
    {
     "name": "stdout",
     "output_type": "stream",
     "text": [
      "Searching for best T0 for period 0.64105 days\n"
     ]
    },
    {
     "name": "stderr",
     "output_type": "stream",
     "text": [
      "100%|██████████| 17723/17723 [00:06<00:00, 2630.26it/s]\n",
      "/Users/ryancloutier/anaconda3/envs/myenv/lib/python3.8/site-packages/transitleastsquares/stats.py:456: RuntimeWarning: divide by zero encountered in double_scalars\n",
      "  snr_pink_per_transit[i] = (1 - mean_flux) / pinknoise\n",
      "  0%|          | 0/2620 periods | 00:00<?"
     ]
    },
    {
     "name": "stdout",
     "output_type": "stream",
     "text": [
      "Running TLS for planet 1 (sector(s) 2)\n",
      "Transit Least Squares TLS 1.0.28 (13 June 2021)\n",
      "Creating model cache for 40 durations\n",
      "Searching 17959 data points, 2620 periods from 0.602 to 17.988 days\n",
      "Using all 8 CPU threads\n"
     ]
    },
    {
     "name": "stderr",
     "output_type": "stream",
     "text": [
      "100%|██████████| 2620/2620 periods | 00:27<00:00\n",
      "  1%|          | 101/11366 [00:00<00:11, 999.93it/s]"
     ]
    },
    {
     "name": "stdout",
     "output_type": "stream",
     "text": [
      "Searching for best T0 for period 0.73530 days\n"
     ]
    },
    {
     "name": "stderr",
     "output_type": "stream",
     "text": [
      "100%|██████████| 11366/11366 [00:04<00:00, 2561.50it/s]\n",
      "  0%|          | 0/2620 periods | 00:00<?"
     ]
    },
    {
     "name": "stdout",
     "output_type": "stream",
     "text": [
      "Running TLS for planet 2 (sector(s) 2)\n",
      "Transit Least Squares TLS 1.0.28 (13 June 2021)\n",
      "Creating model cache for 40 durations\n",
      "Searching 17664 data points, 2620 periods from 0.602 to 17.988 days\n",
      "Using all 8 CPU threads\n"
     ]
    },
    {
     "name": "stderr",
     "output_type": "stream",
     "text": [
      "100%|██████████| 2620/2620 periods | 00:25<00:00\n",
      "  1%|▏         | 153/11396 [00:00<00:07, 1525.45it/s]"
     ]
    },
    {
     "name": "stdout",
     "output_type": "stream",
     "text": [
      "Searching for best T0 for period 4.58878 days\n"
     ]
    },
    {
     "name": "stderr",
     "output_type": "stream",
     "text": [
      "100%|██████████| 11396/11396 [00:03<00:00, 3549.52it/s]\n",
      "  0%|          | 0/2620 periods | 00:00<?"
     ]
    },
    {
     "name": "stdout",
     "output_type": "stream",
     "text": [
      "Running TLS for planet 3 (sector(s) 2)\n",
      "Transit Least Squares TLS 1.0.28 (13 June 2021)\n",
      "Creating model cache for 40 durations\n",
      "Searching 17409 data points, 2620 periods from 0.602 to 17.988 days\n",
      "Using all 8 CPU threads\n"
     ]
    },
    {
     "name": "stderr",
     "output_type": "stream",
     "text": [
      "100%|██████████| 2620/2620 periods | 00:24<00:00\n",
      "  1%|          | 112/17409 [00:00<00:15, 1114.91it/s]"
     ]
    },
    {
     "name": "stdout",
     "output_type": "stream",
     "text": [
      "Searching for best T0 for period 1.68359 days\n"
     ]
    },
    {
     "name": "stderr",
     "output_type": "stream",
     "text": [
      "100%|██████████| 17409/17409 [00:05<00:00, 3032.52it/s]\n",
      "  0%|          | 0/2284 periods | 00:00<?"
     ]
    },
    {
     "name": "stdout",
     "output_type": "stream",
     "text": [
      "Running TLS for planet 1 (sector(s) 29)\n",
      "Transit Least Squares TLS 1.0.28 (13 June 2021)\n",
      "Creating model cache for 39 durations\n",
      "Searching 14854 data points, 2284 periods from 0.601 to 15.969 days\n",
      "Using all 8 CPU threads\n"
     ]
    },
    {
     "name": "stderr",
     "output_type": "stream",
     "text": [
      "100%|██████████| 2284/2284 periods | 00:26<00:00\n",
      "  0%|          | 0/2284 periods | 00:00<?"
     ]
    },
    {
     "name": "stdout",
     "output_type": "stream",
     "text": [
      "Running TLS for planet 2 (sector(s) 29)\n",
      "Transit Least Squares TLS 1.0.28 (13 June 2021)\n",
      "Creating model cache for 39 durations\n",
      "Searching 14096 data points, 2284 periods from 0.601 to 15.969 days\n",
      "Using all 8 CPU threads\n"
     ]
    },
    {
     "name": "stderr",
     "output_type": "stream",
     "text": [
      "100%|██████████| 2284/2284 periods | 00:23<00:00\n",
      "  0%|          | 0/2284 periods | 00:00<?"
     ]
    },
    {
     "name": "stdout",
     "output_type": "stream",
     "text": [
      "Running TLS for planet 3 (sector(s) 29)\n",
      "Transit Least Squares TLS 1.0.28 (13 June 2021)\n",
      "Creating model cache for 39 durations\n",
      "Searching 13393 data points, 2284 periods from 0.601 to 15.969 days\n",
      "Using all 8 CPU threads\n"
     ]
    },
    {
     "name": "stderr",
     "output_type": "stream",
     "text": [
      "100%|██████████| 2284/2284 periods | 00:22<00:00\n"
     ]
    }
   ],
   "source": [
    "# just do it\n",
    "tic = 98796344 # ltt 1445\n",
    "#tic = 318022259 # toi-1730\n",
    "#tic = 307210830  # l 98-59\n",
    "tics = [101955023,288314668,16530308,289972535,402313808]  # Kristo'S FAP calculation\n",
    "\n",
    "for i in range(1,len(tics)):\n",
    "    ts = ps.run_full_planet_search(tics[i])"
   ]
  },
  {
   "cell_type": "code",
   "execution_count": null,
   "metadata": {},
   "outputs": [],
   "source": []
  }
 ],
 "metadata": {
  "kernelspec": {
   "display_name": "Python 3",
   "language": "python",
   "name": "python3"
  },
  "language_info": {
   "codemirror_mode": {
    "name": "ipython",
    "version": 3
   },
   "file_extension": ".py",
   "mimetype": "text/x-python",
   "name": "python",
   "nbconvert_exporter": "python",
   "pygments_lexer": "ipython3",
   "version": "3.8.2"
  }
 },
 "nbformat": 4,
 "nbformat_minor": 4
}
