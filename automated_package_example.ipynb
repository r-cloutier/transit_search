{
 "cells": [
  {
   "cell_type": "code",
   "execution_count": 1,
   "metadata": {},
   "outputs": [],
   "source": [
    "import numpy as np\n",
    "import pylab as plt\n",
    "import planet_search as ps\n",
    "import constants as cs"
   ]
  },
  {
   "cell_type": "code",
   "execution_count": 2,
   "metadata": {},
   "outputs": [],
   "source": [
    "# just do it\n",
    "tic = 98796344 # ltt 1445\n",
    "tic = 318022259 # toi-1730\n",
    "#tic = 307210830  # l 98-59\n",
    "ts = ps.run_full_planet_search(tic)"
   ]
  },
  {
   "cell_type": "code",
   "execution_count": null,
   "metadata": {},
   "outputs": [],
   "source": []
  },
  {
   "cell_type": "code",
   "execution_count": 145,
   "metadata": {},
   "outputs": [],
   "source": [
    "def get_POIs(ts):\n",
    "    '''\n",
    "    Given a set of tls result dictionaries (i.e. from multiple TLS runs and/or\n",
    "    multiple sectors), consolidate periods of interest. \n",
    "    '''\n",
    "    # collect all periods\n",
    "    POIsv1 = np.zeros((0,2))   # (period, SDE)\n",
    "    for res in ts.tls.__dict__.keys():\n",
    "        POIsv1 = np.vstack([POIsv1, [getattr(ts.tls,res).period, getattr(ts.tls,res).SDE_raw]])\n",
    "    POIsv1 = POIsv1[np.argsort(POIsv1,0)[:,0]]\n",
    "    \n",
    "    # identify duplicates\n",
    "    POIsv2 = np.zeros((0,3))  # avg(P), avg(SDE), Noccurrences\n",
    "    for p in POIsv1[:,0]:\n",
    "        #duplicates = np.isclose(POIsv1[:,0], p, rtol=cs.P_duplicate_fraction)\n",
    "        duplicates = np.isclose(POIsv1[:,0], p, rtol=.02)   # TEMP\n",
    "        avgP = np.average(POIsv1[duplicates,0], weights=POIsv1[duplicates,1])\n",
    "        avgSDE = np.average(POIsv1[duplicates,1], weights=POIsv1[duplicates,1])\n",
    "        Nocc = np.sum(duplicates)\n",
    "        POIsv2 = np.vstack([POIsv2, [avgP,avgSDE,Nocc]])\n",
    "    # remove duplicates\n",
    "    _,inds = np.unique(POIsv2[:,0], return_index=True)\n",
    "    POIsv3 = POIsv2[inds]\n",
    "    \n",
    "    # leave multiples alone because if they surive the iterative TLS, they may be real (e.g. L 98-59)\n",
    "    ts.star.POIs, ts.star.SDEOIs, ts.star.NoccurrencesOIs = POIsv3.T   # TEMP change star to vetting"
   ]
  },
  {
   "cell_type": "code",
   "execution_count": 146,
   "metadata": {},
   "outputs": [],
   "source": [
    "get_POIs(ts)"
   ]
  },
  {
   "cell_type": "code",
   "execution_count": 165,
   "metadata": {},
   "outputs": [
    {
     "data": {
      "text/plain": [
       "array([ True,  True,  True])"
      ]
     },
     "execution_count": 165,
     "metadata": {},
     "output_type": "execute_result"
    }
   ],
   "source": [
    "np.ones(3).astype(bool) * np.ones(3).astype(bool)"
   ]
  },
  {
   "cell_type": "code",
   "execution_count": null,
   "metadata": {},
   "outputs": [],
   "source": []
  }
 ],
 "metadata": {
  "kernelspec": {
   "display_name": "Python 3",
   "language": "python",
   "name": "python3"
  },
  "language_info": {
   "codemirror_mode": {
    "name": "ipython",
    "version": 3
   },
   "file_extension": ".py",
   "mimetype": "text/x-python",
   "name": "python",
   "nbconvert_exporter": "python",
   "pygments_lexer": "ipython3",
   "version": "3.8.2"
  }
 },
 "nbformat": 4,
 "nbformat_minor": 4
}
