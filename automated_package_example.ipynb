{
 "cells": [
  {
   "cell_type": "code",
   "execution_count": 1,
   "metadata": {},
   "outputs": [],
   "source": [
    "import numpy as np\n",
    "import pylab as plt\n",
    "import planet_search as ps"
   ]
  },
  {
   "cell_type": "code",
   "execution_count": 3,
   "metadata": {},
   "outputs": [
    {
     "name": "stderr",
     "output_type": "stream",
     "text": [
      "\r",
      "  0%|          | 0/2449 periods | 00:00<?"
     ]
    },
    {
     "name": "stdout",
     "output_type": "stream",
     "text": [
      "Running TLS for planet 1 (sector(s) 4)\n",
      "Transit Least Squares TLS 1.0.28 (13 June 2021)\n",
      "Creating model cache for 40 durations\n",
      "Searching 14697 data points, 2449 periods from 0.601 to 17.998 days\n",
      "Using all 8 CPU threads\n"
     ]
    },
    {
     "name": "stderr",
     "output_type": "stream",
     "text": [
      "100%|██████████| 2449/2449 periods | 00:21<00:00\n",
      "  2%|▏         | 174/10350 [00:00<00:05, 1739.79it/s]"
     ]
    },
    {
     "name": "stdout",
     "output_type": "stream",
     "text": [
      "Searching for best T0 for period 5.35592 days\n"
     ]
    },
    {
     "name": "stderr",
     "output_type": "stream",
     "text": [
      "100%|██████████| 10350/10350 [00:03<00:00, 3299.54it/s]\n",
      "  0%|          | 0/2449 periods | 00:00<?"
     ]
    },
    {
     "name": "stdout",
     "output_type": "stream",
     "text": [
      "Running TLS for planet 2 (sector(s) 4)\n",
      "Transit Least Squares TLS 1.0.28 (13 June 2021)\n",
      "Creating model cache for 40 durations\n",
      "Searching 14477 data points, 2449 periods from 0.601 to 17.998 days\n",
      "Using all 8 CPU threads\n"
     ]
    },
    {
     "name": "stderr",
     "output_type": "stream",
     "text": [
      "100%|██████████| 2449/2449 periods | 00:20<00:00\n",
      "  2%|▏         | 171/9400 [00:00<00:05, 1706.15it/s]"
     ]
    },
    {
     "name": "stdout",
     "output_type": "stream",
     "text": [
      "Searching for best T0 for period 3.12370 days\n"
     ]
    },
    {
     "name": "stderr",
     "output_type": "stream",
     "text": [
      "100%|██████████| 9400/9400 [00:02<00:00, 3817.51it/s]\n",
      "  0%|          | 0/2449 periods | 00:00<?"
     ]
    },
    {
     "name": "stdout",
     "output_type": "stream",
     "text": [
      "Running TLS for planet 3 (sector(s) 4)\n",
      "Transit Least Squares TLS 1.0.28 (13 June 2021)\n",
      "Creating model cache for 40 durations\n",
      "Searching 14206 data points, 2449 periods from 0.601 to 17.998 days\n",
      "Using all 8 CPU threads\n"
     ]
    },
    {
     "name": "stderr",
     "output_type": "stream",
     "text": [
      "100%|██████████| 2449/2449 periods | 00:16<00:00\n",
      "  2%|▏         | 190/10369 [00:00<00:05, 1894.32it/s]"
     ]
    },
    {
     "name": "stdout",
     "output_type": "stream",
     "text": [
      "Searching for best T0 for period 7.21902 days\n"
     ]
    },
    {
     "name": "stderr",
     "output_type": "stream",
     "text": [
      "100%|██████████| 10369/10369 [00:02<00:00, 4367.34it/s]\n",
      "  0%|          | 0/2432 periods | 00:00<?"
     ]
    },
    {
     "name": "stdout",
     "output_type": "stream",
     "text": [
      "Running TLS for planet 1 (sector(s) 31)\n",
      "Transit Least Squares TLS 1.0.28 (13 June 2021)\n",
      "Creating model cache for 40 durations\n",
      "Searching 16519 data points, 2432 periods from 0.601 to 17.983 days\n",
      "Using all 8 CPU threads\n"
     ]
    },
    {
     "name": "stderr",
     "output_type": "stream",
     "text": [
      "100%|██████████| 2432/2432 periods | 00:23<00:00\n",
      "  1%|▏         | 169/12514 [00:00<00:07, 1681.01it/s]"
     ]
    },
    {
     "name": "stdout",
     "output_type": "stream",
     "text": [
      "Searching for best T0 for period 5.36184 days\n"
     ]
    },
    {
     "name": "stderr",
     "output_type": "stream",
     "text": [
      "100%|██████████| 12514/12514 [00:03<00:00, 3961.48it/s]\n",
      "  0%|          | 0/2432 periods | 00:00<?"
     ]
    },
    {
     "name": "stdout",
     "output_type": "stream",
     "text": [
      "Running TLS for planet 2 (sector(s) 31)\n",
      "Transit Least Squares TLS 1.0.28 (13 June 2021)\n",
      "Creating model cache for 40 durations\n",
      "Searching 16311 data points, 2432 periods from 0.601 to 17.983 days\n",
      "Using all 8 CPU threads\n"
     ]
    },
    {
     "name": "stderr",
     "output_type": "stream",
     "text": [
      "100%|██████████| 2432/2432 periods | 00:22<00:00\n",
      "  1%|          | 181/16311 [00:00<00:08, 1806.11it/s]"
     ]
    },
    {
     "name": "stdout",
     "output_type": "stream",
     "text": [
      "Searching for best T0 for period 12.67109 days\n"
     ]
    },
    {
     "name": "stderr",
     "output_type": "stream",
     "text": [
      "100%|██████████| 16311/16311 [00:03<00:00, 4504.65it/s]\n",
      "  0%|          | 0/2432 periods | 00:00<?"
     ]
    },
    {
     "name": "stdout",
     "output_type": "stream",
     "text": [
      "Running TLS for planet 3 (sector(s) 31)\n",
      "Transit Least Squares TLS 1.0.28 (13 June 2021)\n",
      "Creating model cache for 40 durations\n",
      "Searching 16179 data points, 2432 periods from 0.601 to 17.983 days\n",
      "Using all 8 CPU threads\n"
     ]
    },
    {
     "name": "stderr",
     "output_type": "stream",
     "text": [
      "100%|██████████| 2432/2432 periods | 00:20<00:00\n",
      "  0%|          | 0/2432 periods | 00:00<?"
     ]
    },
    {
     "name": "stdout",
     "output_type": "stream",
     "text": [
      "Running TLS for planet 4 (sector(s) 31)\n",
      "Transit Least Squares TLS 1.0.28 (13 June 2021)\n",
      "Creating model cache for 40 durations\n",
      "Searching 14502 data points, 2432 periods from 0.601 to 17.983 days\n",
      "Using all 8 CPU threads\n"
     ]
    },
    {
     "name": "stderr",
     "output_type": "stream",
     "text": [
      "100%|██████████| 2432/2432 periods | 00:16<00:00\n",
      "  1%|          | 173/14502 [00:00<00:08, 1720.64it/s]"
     ]
    },
    {
     "name": "stdout",
     "output_type": "stream",
     "text": [
      "Searching for best T0 for period 3.12477 days\n"
     ]
    },
    {
     "name": "stderr",
     "output_type": "stream",
     "text": [
      "100%|██████████| 14502/14502 [00:03<00:00, 4106.49it/s]\n",
      "  0%|          | 0/2432 periods | 00:00<?"
     ]
    },
    {
     "name": "stdout",
     "output_type": "stream",
     "text": [
      "Running TLS for planet 5 (sector(s) 31)\n",
      "Transit Least Squares TLS 1.0.28 (13 June 2021)\n",
      "Creating model cache for 40 durations\n",
      "Searching 14350 data points, 2432 periods from 0.601 to 17.983 days\n",
      "Using all 8 CPU threads\n"
     ]
    },
    {
     "name": "stderr",
     "output_type": "stream",
     "text": [
      "100%|██████████| 2432/2432 periods | 00:15<00:00\n",
      "  2%|▏         | 198/12587 [00:00<00:06, 1973.41it/s]"
     ]
    },
    {
     "name": "stdout",
     "output_type": "stream",
     "text": [
      "Searching for best T0 for period 8.77760 days\n"
     ]
    },
    {
     "name": "stderr",
     "output_type": "stream",
     "text": [
      "100%|██████████| 12587/12587 [00:02<00:00, 4774.02it/s]\n",
      "/Users/ryancloutier/anaconda3/envs/myenv/lib/python3.8/site-packages/transitleastsquares/main.py:407: UserWarning: 1 of 3 transits without data. The true period may be twice the given period.\n",
      "  warnings.warn(text)\n"
     ]
    }
   ],
   "source": [
    "# just do it\n",
    "tic = 98796344 # ltt 1445\n",
    "#tic = 318022259 # toi-1730\n",
    "#tic = 307210830  # l 98-59\n",
    "#tics = [101955023,288314668,16530308,289972535,402313808]  # Kristo'S FAP calculation\n",
    "#for i in range(1,len(tics)):\n",
    "\n",
    "ts = ps.run_full_planet_search(tic, use_20sec=0, window_length_hrs=4)"
   ]
  },
  {
   "cell_type": "code",
   "execution_count": 70,
   "metadata": {},
   "outputs": [
    {
     "data": {
      "text/plain": [
       "(1844.4, 1844.7)"
      ]
     },
     "execution_count": 70,
     "metadata": {},
     "output_type": "execute_result"
    },
    {
     "data": {
      "image/png": "[encoded data removed]",
      "text/plain": [
       "<Figure size 432x288 with 1 Axes>"
      ]
     },
     "metadata": {
      "needs_background": "light"
     },
     "output_type": "display_data"
    }
   ],
   "source": [
    "plt.plot(ts.tls.results_2_s20['model_lightcurve_time']-2457e3, \n",
    "         1e6*(ts.tls.results_2_s20['model_lightcurve_model']-1))\n",
    "plt.axvline(ts.tls.results_2_s20['T0']-2457e3, color='k')\n",
    "plt.axhline(-1e6*(1-ts.tls.results_2_s20['depth_mean'][0]), color='k')\n",
    "\n",
    "plt.xlim((1844.4,1844.7))"
   ]
  },
  {
   "cell_type": "code",
   "execution_count": 8,
   "metadata": {},
   "outputs": [
    {
     "data": {
      "text/plain": [
       "dict_keys(['SDE', 'SDE_raw', 'chi2_min', 'chi2red_min', 'period', 'period_uncertainty', 'T0', 'duration', 'depth', 'depth_mean', 'depth_mean_even', 'depth_mean_odd', 'transit_depths', 'transit_depths_uncertainties', 'rp_rs', 'snr', 'snr_per_transit', 'snr_pink_per_transit', 'odd_even_mismatch', 'transit_times', 'per_transit_count', 'transit_count', 'distinct_transit_count', 'empty_transit_count', 'FAP', 'in_transit_count', 'after_transit_count', 'before_transit_count', 'periods', 'power', 'power_raw', 'SR', 'chi2', 'chi2red', 'model_lightcurve_time', 'model_lightcurve_model', 'model_folded_phase', 'folded_y', 'folded_dy', 'folded_phase', 'model_folded_model'])"
      ]
     },
     "execution_count": 8,
     "metadata": {},
     "output_type": "execute_result"
    }
   ],
   "source": [
    "ts.tls.results_1_s20.keys()"
   ]
  },
  {
   "cell_type": "code",
   "execution_count": 22,
   "metadata": {},
   "outputs": [
    {
     "data": {
      "text/plain": [
       "11.94702551912365"
      ]
     },
     "execution_count": 22,
     "metadata": {},
     "output_type": "execute_result"
    }
   ],
   "source": [
    "np.sum((ts.tls.results_1_s20.model))"
   ]
  },
  {
   "cell_type": "code",
   "execution_count": 74,
   "metadata": {},
   "outputs": [
    {
     "data": {
      "text/plain": [
       "6.038006567135947"
      ]
     },
     "execution_count": 74,
     "metadata": {},
     "output_type": "execute_result"
    }
   ],
   "source": [
    "ts.tls.results_3_s20['SDE']"
   ]
  },
  {
   "cell_type": "code",
   "execution_count": 54,
   "metadata": {},
   "outputs": [
    {
     "data": {
      "text/plain": [
       "<tls_object.transit_search.VETTING at 0x7fa64161c400>"
      ]
     },
     "execution_count": 54,
     "metadata": {},
     "output_type": "execute_result"
    }
   ],
   "source": [
    "ts.tls."
   ]
  },
  {
   "cell_type": "code",
   "execution_count": null,
   "metadata": {},
   "outputs": [],
   "source": []
  }
 ],
 "metadata": {
  "kernelspec": {
   "display_name": "Python 3",
   "language": "python",
   "name": "python3"
  },
  "language_info": {
   "codemirror_mode": {
    "name": "ipython",
    "version": 3
   },
   "file_extension": ".py",
   "mimetype": "text/x-python",
   "name": "python",
   "nbconvert_exporter": "python",
   "pygments_lexer": "ipython3",
   "version": "3.8.2"
  }
 },
 "nbformat": 4,
 "nbformat_minor": 4
}
