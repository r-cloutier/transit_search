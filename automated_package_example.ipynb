{
 "cells": [
  {
   "cell_type": "code",
   "execution_count": 1,
   "metadata": {},
   "outputs": [],
   "source": [
    "import numpy as np\n",
    "import pylab as plt\n",
    "import planet_search as ps"
   ]
  },
  {
   "cell_type": "code",
   "execution_count": 3,
   "metadata": {},
   "outputs": [
    {
     "name": "stderr",
     "output_type": "stream",
     "text": [
      "\r",
      "  0%|          | 0/2498 periods | 00:00<?"
     ]
    },
    {
     "name": "stdout",
     "output_type": "stream",
     "text": [
      "Running TLS for planet 1 (sector(s) 2)\n",
      "Transit Least Squares TLS 1.0.28 (13 June 2021)\n",
      "Creating model cache for 40 durations\n",
      "Searching 17551 data points, 2498 periods from 0.601 to 17.0 days\n",
      "Using all 8 CPU threads\n"
     ]
    },
    {
     "name": "stderr",
     "output_type": "stream",
     "text": [
      "100%|██████████| 2498/2498 periods | 00:23<00:00\n",
      "  2%|▏         | 140/8239 [00:00<00:05, 1399.12it/s]"
     ]
    },
    {
     "name": "stdout",
     "output_type": "stream",
     "text": [
      "Searching for best T0 for period 3.69088 days\n"
     ]
    },
    {
     "name": "stderr",
     "output_type": "stream",
     "text": [
      "100%|██████████| 8239/8239 [00:02<00:00, 3309.07it/s]\n",
      "  0%|          | 0/2498 periods | 00:00<?"
     ]
    },
    {
     "name": "stdout",
     "output_type": "stream",
     "text": [
      "Running TLS for planet 2 (sector(s) 2)\n",
      "Transit Least Squares TLS 1.0.28 (13 June 2021)\n",
      "Creating model cache for 40 durations\n",
      "Searching 17194 data points, 2498 periods from 0.601 to 17.0 days\n",
      "Using all 8 CPU threads\n"
     ]
    },
    {
     "name": "stderr",
     "output_type": "stream",
     "text": [
      "100%|██████████| 2498/2498 periods | 00:20<00:00\n",
      "  1%|          | 164/17194 [00:00<00:10, 1631.84it/s]"
     ]
    },
    {
     "name": "stdout",
     "output_type": "stream",
     "text": [
      "Searching for best T0 for period 7.45318 days\n"
     ]
    },
    {
     "name": "stderr",
     "output_type": "stream",
     "text": [
      "100%|██████████| 17194/17194 [00:04<00:00, 4188.06it/s]\n",
      "  0%|          | 0/2498 periods | 00:00<?"
     ]
    },
    {
     "name": "stdout",
     "output_type": "stream",
     "text": [
      "Running TLS for planet 3 (sector(s) 2)\n",
      "Transit Least Squares TLS 1.0.28 (13 June 2021)\n",
      "Creating model cache for 40 durations\n",
      "Searching 17001 data points, 2498 periods from 0.601 to 17.0 days\n",
      "Using all 8 CPU threads\n"
     ]
    },
    {
     "name": "stderr",
     "output_type": "stream",
     "text": [
      "100%|██████████| 2498/2498 periods | 00:22<00:00\n",
      "  2%|▏         | 150/7489 [00:00<00:04, 1497.58it/s]"
     ]
    },
    {
     "name": "stdout",
     "output_type": "stream",
     "text": [
      "Searching for best T0 for period 2.25326 days\n"
     ]
    },
    {
     "name": "stderr",
     "output_type": "stream",
     "text": [
      "100%|██████████| 7489/7489 [00:02<00:00, 3048.98it/s]\n",
      "  0%|          | 0/2385 periods | 00:00<?"
     ]
    },
    {
     "name": "stdout",
     "output_type": "stream",
     "text": [
      "Running TLS for planet 1 (sector(s) 5)\n",
      "Transit Least Squares TLS 1.0.28 (13 June 2021)\n",
      "Creating model cache for 39 durations\n",
      "Searching 16985 data points, 2385 periods from 0.601 to 15.96 days\n",
      "Using all 8 CPU threads\n"
     ]
    },
    {
     "name": "stderr",
     "output_type": "stream",
     "text": [
      "100%|██████████| 2385/2385 periods | 00:16<00:00\n",
      "  2%|▏         | 158/7900 [00:00<00:04, 1574.51it/s]"
     ]
    },
    {
     "name": "stdout",
     "output_type": "stream",
     "text": [
      "Searching for best T0 for period 3.68826 days\n"
     ]
    },
    {
     "name": "stderr",
     "output_type": "stream",
     "text": [
      "100%|██████████| 7900/7900 [00:02<00:00, 3540.68it/s]\n",
      "  0%|          | 0/2385 periods | 00:00<?"
     ]
    },
    {
     "name": "stdout",
     "output_type": "stream",
     "text": [
      "Running TLS for planet 2 (sector(s) 5)\n",
      "Transit Least Squares TLS 1.0.28 (13 June 2021)\n",
      "Creating model cache for 39 durations\n",
      "Searching 16576 data points, 2385 periods from 0.601 to 15.96 days\n",
      "Using all 8 CPU threads\n"
     ]
    },
    {
     "name": "stderr",
     "output_type": "stream",
     "text": [
      "100%|██████████| 2385/2385 periods | 00:15<00:00\n",
      "  2%|▏         | 141/6525 [00:00<00:04, 1402.37it/s]"
     ]
    },
    {
     "name": "stdout",
     "output_type": "stream",
     "text": [
      "Searching for best T0 for period 2.25265 days\n"
     ]
    },
    {
     "name": "stderr",
     "output_type": "stream",
     "text": [
      "100%|██████████| 6525/6525 [00:02<00:00, 3232.94it/s]\n",
      "  0%|          | 0/2385 periods | 00:00<?"
     ]
    },
    {
     "name": "stdout",
     "output_type": "stream",
     "text": [
      "Running TLS for planet 3 (sector(s) 5)\n",
      "Transit Least Squares TLS 1.0.28 (13 June 2021)\n",
      "Creating model cache for 39 durations\n",
      "Searching 16068 data points, 2385 periods from 0.601 to 15.96 days\n",
      "Using all 8 CPU threads\n"
     ]
    },
    {
     "name": "stderr",
     "output_type": "stream",
     "text": [
      "100%|██████████| 2385/2385 periods | 00:15<00:00\n",
      "  1%|▏         | 166/12752 [00:00<00:07, 1657.66it/s]"
     ]
    },
    {
     "name": "stdout",
     "output_type": "stream",
     "text": [
      "Searching for best T0 for period 4.96633 days\n"
     ]
    },
    {
     "name": "stderr",
     "output_type": "stream",
     "text": [
      "100%|██████████| 12752/12752 [00:03<00:00, 4092.54it/s]\n"
     ]
    },
    {
     "name": "stdout",
     "output_type": "stream",
     "text": [
      "Running TLS for planet 1 (sector(s) 8-12)\n"
     ]
    },
    {
     "name": "stderr",
     "output_type": "stream",
     "text": [
      "\r",
      "  0%|          | 0/12366 periods | 00:00<?"
     ]
    },
    {
     "name": "stdout",
     "output_type": "stream",
     "text": [
      "Transit Least Squares TLS 1.0.28 (13 June 2021)\n",
      "Creating model cache for 38 durations\n",
      "Searching 79721 data points, 12366 periods from 0.602 to 13.998 days\n",
      "Using all 8 CPU threads\n"
     ]
    },
    {
     "name": "stderr",
     "output_type": "stream",
     "text": [
      "100%|██████████| 12366/12366 periods | 03:55<00:00\n",
      "  0%|          | 23/8741 [00:00<00:39, 221.85it/s]"
     ]
    },
    {
     "name": "stdout",
     "output_type": "stream",
     "text": [
      "Searching for best T0 for period 3.69033 days\n"
     ]
    },
    {
     "name": "stderr",
     "output_type": "stream",
     "text": [
      "100%|██████████| 8741/8741 [00:12<00:00, 713.36it/s]\n"
     ]
    },
    {
     "name": "stdout",
     "output_type": "stream",
     "text": [
      "Running TLS for planet 2 (sector(s) 8-12)\n"
     ]
    },
    {
     "name": "stderr",
     "output_type": "stream",
     "text": [
      "\r",
      "  0%|          | 0/12366 periods | 00:00<?"
     ]
    },
    {
     "name": "stdout",
     "output_type": "stream",
     "text": [
      "Transit Least Squares TLS 1.0.28 (13 June 2021)\n",
      "Creating model cache for 38 durations\n",
      "Searching 78206 data points, 12366 periods from 0.602 to 13.998 days\n",
      "Using all 8 CPU threads\n"
     ]
    },
    {
     "name": "stderr",
     "output_type": "stream",
     "text": [
      "100%|██████████| 12366/12366 periods | 03:26<00:00\n",
      "  0%|          | 29/17038 [00:00<00:59, 284.69it/s]"
     ]
    },
    {
     "name": "stdout",
     "output_type": "stream",
     "text": [
      "Searching for best T0 for period 7.45181 days\n"
     ]
    },
    {
     "name": "stderr",
     "output_type": "stream",
     "text": [
      "100%|██████████| 17038/17038 [00:21<00:00, 803.09it/s]\n"
     ]
    },
    {
     "name": "stdout",
     "output_type": "stream",
     "text": [
      "Running TLS for planet 3 (sector(s) 8-12)\n"
     ]
    },
    {
     "name": "stderr",
     "output_type": "stream",
     "text": [
      "\r",
      "  0%|          | 0/12366 periods | 00:00<?"
     ]
    },
    {
     "name": "stdout",
     "output_type": "stream",
     "text": [
      "Transit Least Squares TLS 1.0.28 (13 June 2021)\n",
      "Creating model cache for 38 durations\n",
      "Searching 77397 data points, 12366 periods from 0.602 to 13.998 days\n",
      "Using all 8 CPU threads\n"
     ]
    },
    {
     "name": "stderr",
     "output_type": "stream",
     "text": [
      "100%|██████████| 12366/12366 periods | 03:13<00:00\n",
      "  0%|          | 20/6570 [00:00<00:33, 192.87it/s]"
     ]
    },
    {
     "name": "stdout",
     "output_type": "stream",
     "text": [
      "Searching for best T0 for period 2.25334 days\n"
     ]
    },
    {
     "name": "stderr",
     "output_type": "stream",
     "text": [
      "100%|██████████| 6570/6570 [00:10<00:00, 645.04it/s]\n",
      "  0%|          | 0/4769 periods | 00:00<?"
     ]
    },
    {
     "name": "stdout",
     "output_type": "stream",
     "text": [
      "Running TLS for planet 1 (sector(s) 28-29)\n",
      "Transit Least Squares TLS 1.0.28 (13 June 2021)\n",
      "Creating model cache for 39 durations\n",
      "Searching 28769 data points, 4769 periods from 0.601 to 15.987 days\n",
      "Using all 8 CPU threads\n"
     ]
    },
    {
     "name": "stderr",
     "output_type": "stream",
     "text": [
      "100%|██████████| 4769/4769 periods | 01:09<00:00\n",
      "  2%|▏         | 172/7903 [00:00<00:08, 869.50it/s]"
     ]
    },
    {
     "name": "stdout",
     "output_type": "stream",
     "text": [
      "Searching for best T0 for period 3.69071 days\n"
     ]
    },
    {
     "name": "stderr",
     "output_type": "stream",
     "text": [
      "100%|██████████| 7903/7903 [00:03<00:00, 2025.39it/s]\n"
     ]
    },
    {
     "name": "stdout",
     "output_type": "stream",
     "text": [
      "Running TLS for planet 2 (sector(s) 28-29)\n",
      "Transit Least Squares TLS 1.0.28 (13 June 2021)\n",
      "Creating model cache for 39 durations\n"
     ]
    },
    {
     "name": "stderr",
     "output_type": "stream",
     "text": [
      "\r",
      "  0%|          | 0/4769 periods | 00:00<?"
     ]
    },
    {
     "name": "stdout",
     "output_type": "stream",
     "text": [
      "Searching 28209 data points, 4769 periods from 0.601 to 15.987 days\n",
      "Using all 8 CPU threads\n"
     ]
    },
    {
     "name": "stderr",
     "output_type": "stream",
     "text": [
      "100%|██████████| 4769/4769 periods | 01:05<00:00\n",
      "  0%|          | 104/27387 [00:00<00:26, 1039.05it/s]"
     ]
    },
    {
     "name": "stdout",
     "output_type": "stream",
     "text": [
      "Searching for best T0 for period 14.90098 days\n"
     ]
    },
    {
     "name": "stderr",
     "output_type": "stream",
     "text": [
      "100%|██████████| 27387/27387 [00:10<00:00, 2722.03it/s]\n"
     ]
    },
    {
     "name": "stdout",
     "output_type": "stream",
     "text": [
      "Running TLS for planet 3 (sector(s) 28-29)\n",
      "Transit Least Squares TLS 1.0.28 (13 June 2021)\n",
      "Creating model cache for 39 durations\n"
     ]
    },
    {
     "name": "stderr",
     "output_type": "stream",
     "text": [
      "\r",
      "  0%|          | 0/4769 periods | 00:00<?"
     ]
    },
    {
     "name": "stdout",
     "output_type": "stream",
     "text": [
      "Searching 28005 data points, 4769 periods from 0.601 to 15.987 days\n",
      "Using all 8 CPU threads\n"
     ]
    },
    {
     "name": "stderr",
     "output_type": "stream",
     "text": [
      "100%|██████████| 4769/4769 periods | 00:58<00:00\n",
      "  2%|▏         | 90/5933 [00:00<00:06, 898.55it/s]"
     ]
    },
    {
     "name": "stdout",
     "output_type": "stream",
     "text": [
      "Searching for best T0 for period 2.25361 days\n"
     ]
    },
    {
     "name": "stderr",
     "output_type": "stream",
     "text": [
      "100%|██████████| 5933/5933 [00:03<00:00, 1641.02it/s]\n",
      "  0%|          | 0/2416 periods | 00:00<?"
     ]
    },
    {
     "name": "stdout",
     "output_type": "stream",
     "text": [
      "Running TLS for planet 1 (sector(s) 32)\n",
      "Transit Least Squares TLS 1.0.28 (13 June 2021)\n",
      "Creating model cache for 39 durations\n",
      "Searching 17345 data points, 2416 periods from 0.601 to 15.983 days\n",
      "Using all 8 CPU threads\n"
     ]
    },
    {
     "name": "stderr",
     "output_type": "stream",
     "text": [
      "100%|██████████| 2416/2416 periods | 00:20<00:00\n",
      "  2%|▏         | 161/9582 [00:00<00:05, 1606.82it/s]"
     ]
    },
    {
     "name": "stdout",
     "output_type": "stream",
     "text": [
      "Searching for best T0 for period 3.68948 days\n"
     ]
    },
    {
     "name": "stderr",
     "output_type": "stream",
     "text": [
      "100%|██████████| 9582/9582 [00:02<00:00, 3616.42it/s]\n",
      "  0%|          | 0/2416 periods | 00:00<?"
     ]
    },
    {
     "name": "stdout",
     "output_type": "stream",
     "text": [
      "Running TLS for planet 2 (sector(s) 32)\n",
      "Transit Least Squares TLS 1.0.28 (13 June 2021)\n",
      "Creating model cache for 39 durations\n",
      "Searching 17037 data points, 2416 periods from 0.601 to 15.983 days\n",
      "Using all 8 CPU threads\n"
     ]
    },
    {
     "name": "stderr",
     "output_type": "stream",
     "text": [
      "100%|██████████| 2416/2416 periods | 00:18<00:00\n",
      "  1%|          | 178/17037 [00:00<00:09, 1775.03it/s]"
     ]
    },
    {
     "name": "stdout",
     "output_type": "stream",
     "text": [
      "Searching for best T0 for period 7.44509 days\n"
     ]
    },
    {
     "name": "stderr",
     "output_type": "stream",
     "text": [
      "100%|██████████| 17037/17037 [00:03<00:00, 4259.76it/s]\n",
      "  0%|          | 0/2416 periods | 00:00<?"
     ]
    },
    {
     "name": "stdout",
     "output_type": "stream",
     "text": [
      "Running TLS for planet 3 (sector(s) 32)\n",
      "Transit Least Squares TLS 1.0.28 (13 June 2021)\n",
      "Creating model cache for 39 durations\n",
      "Searching 16838 data points, 2416 periods from 0.601 to 15.983 days\n",
      "Using all 8 CPU threads\n"
     ]
    },
    {
     "name": "stderr",
     "output_type": "stream",
     "text": [
      "100%|██████████| 2416/2416 periods | 00:18<00:00\n",
      "  2%|▏         | 145/6526 [00:00<00:04, 1445.09it/s]"
     ]
    },
    {
     "name": "stdout",
     "output_type": "stream",
     "text": [
      "Searching for best T0 for period 2.25170 days\n"
     ]
    },
    {
     "name": "stderr",
     "output_type": "stream",
     "text": [
      "100%|██████████| 6526/6526 [00:01<00:00, 3332.38it/s]\n"
     ]
    },
    {
     "name": "stdout",
     "output_type": "stream",
     "text": [
      "Running TLS for planet 1 (sector(s) 35-39)\n"
     ]
    },
    {
     "name": "stderr",
     "output_type": "stream",
     "text": [
      "\r",
      "  0%|          | 0/12551 periods | 00:00<?"
     ]
    },
    {
     "name": "stdout",
     "output_type": "stream",
     "text": [
      "Transit Least Squares TLS 1.0.28 (13 June 2021)\n",
      "Creating model cache for 39 durations\n",
      "Searching 82700 data points, 12551 periods from 0.602 to 16.0 days\n",
      "Using all 8 CPU threads\n"
     ]
    },
    {
     "name": "stderr",
     "output_type": "stream",
     "text": [
      "100%|██████████| 12551/12551 periods | 03:54<00:00\n",
      "  0%|          | 21/7178 [00:00<00:35, 202.68it/s]"
     ]
    },
    {
     "name": "stdout",
     "output_type": "stream",
     "text": [
      "Searching for best T0 for period 3.69035 days\n"
     ]
    },
    {
     "name": "stderr",
     "output_type": "stream",
     "text": [
      "100%|██████████| 7178/7178 [00:10<00:00, 693.79it/s]\n"
     ]
    },
    {
     "name": "stdout",
     "output_type": "stream",
     "text": [
      "Running TLS for planet 2 (sector(s) 35-39)\n"
     ]
    },
    {
     "name": "stderr",
     "output_type": "stream",
     "text": [
      "\r",
      "  0%|          | 0/12551 periods | 00:00<?"
     ]
    },
    {
     "name": "stdout",
     "output_type": "stream",
     "text": [
      "Transit Least Squares TLS 1.0.28 (13 June 2021)\n",
      "Creating model cache for 39 durations\n",
      "Searching 80667 data points, 12551 periods from 0.602 to 16.0 days\n",
      "Using all 8 CPU threads\n"
     ]
    },
    {
     "name": "stderr",
     "output_type": "stream",
     "text": [
      "100%|██████████| 12551/12551 periods | 03:41<00:00\n",
      "  0%|          | 20/5935 [00:00<00:30, 196.96it/s]"
     ]
    },
    {
     "name": "stdout",
     "output_type": "stream",
     "text": [
      "Searching for best T0 for period 2.25311 days\n"
     ]
    },
    {
     "name": "stderr",
     "output_type": "stream",
     "text": [
      "100%|██████████| 5935/5935 [00:09<00:00, 622.88it/s]\n"
     ]
    },
    {
     "name": "stdout",
     "output_type": "stream",
     "text": [
      "Running TLS for planet 3 (sector(s) 35-39)\n"
     ]
    },
    {
     "name": "stderr",
     "output_type": "stream",
     "text": [
      "\r",
      "  0%|          | 0/12551 periods | 00:00<?"
     ]
    },
    {
     "name": "stdout",
     "output_type": "stream",
     "text": [
      "Transit Least Squares TLS 1.0.28 (13 June 2021)\n",
      "Creating model cache for 39 durations\n",
      "Searching 78489 data points, 12551 periods from 0.602 to 16.0 days\n",
      "Using all 8 CPU threads\n"
     ]
    },
    {
     "name": "stderr",
     "output_type": "stream",
     "text": [
      "100%|██████████| 12551/12551 periods | 03:30<00:00\n",
      "  0%|          | 29/16952 [00:00<00:59, 282.76it/s]"
     ]
    },
    {
     "name": "stdout",
     "output_type": "stream",
     "text": [
      "Searching for best T0 for period 7.45194 days\n"
     ]
    },
    {
     "name": "stderr",
     "output_type": "stream",
     "text": [
      "100%|██████████| 16952/16952 [00:21<00:00, 805.05it/s]\n"
     ]
    }
   ],
   "source": [
    "# just do it\n",
    "tic = 98796344 # ltt 1445\n",
    "#tic = 318022259 # toi-1730\n",
    "tic = 307210830  # l 98-59\n",
    "ts = ps.run_full_planet_search(tic)"
   ]
  },
  {
   "cell_type": "code",
   "execution_count": null,
   "metadata": {},
   "outputs": [],
   "source": []
  }
 ],
 "metadata": {
  "kernelspec": {
   "display_name": "Python 3",
   "language": "python",
   "name": "python3"
  },
  "language_info": {
   "codemirror_mode": {
    "name": "ipython",
    "version": 3
   },
   "file_extension": ".py",
   "mimetype": "text/x-python",
   "name": "python",
   "nbconvert_exporter": "python",
   "pygments_lexer": "ipython3",
   "version": "3.8.2"
  }
 },
 "nbformat": 4,
 "nbformat_minor": 4
}
