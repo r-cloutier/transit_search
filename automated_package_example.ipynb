{
 "cells": [
  {
   "cell_type": "code",
   "execution_count": 1,
   "metadata": {},
   "outputs": [],
   "source": [
    "import numpy as np\n",
    "import pylab as plt\n",
    "import planet_search as ps"
   ]
  },
  {
   "cell_type": "code",
   "execution_count": 2,
   "metadata": {},
   "outputs": [
    {
     "name": "stderr",
     "output_type": "stream",
     "text": [
      "\r",
      "  0%|          | 0/2376 periods | 00:00<?"
     ]
    },
    {
     "name": "stdout",
     "output_type": "stream",
     "text": [
      "Running TLS for planet 1 (sector 4)\n",
      "Transit Least Squares TLS 1.0.28 (13 June 2021)\n",
      "Creating model cache for 39 durations\n",
      "Searching 14707 data points, 2376 periods from 0.601 to 14.993 days\n",
      "Using all 8 CPU threads\n"
     ]
    },
    {
     "name": "stderr",
     "output_type": "stream",
     "text": [
      "100%|██████████| 2376/2376 periods | 00:15<00:00\n",
      "  0%|          | 0/6258 [00:00<?, ?it/s]"
     ]
    },
    {
     "name": "stdout",
     "output_type": "stream",
     "text": [
      "Searching for best T0 for period 1.56177 days\n"
     ]
    },
    {
     "name": "stderr",
     "output_type": "stream",
     "text": [
      "100%|██████████| 6258/6258 [00:02<00:00, 2834.41it/s]\n",
      "  0%|          | 0/2376 periods | 00:00<?"
     ]
    },
    {
     "name": "stdout",
     "output_type": "stream",
     "text": [
      "Running TLS for planet 2 (sector 4)\n",
      "Transit Least Squares TLS 1.0.28 (13 June 2021)\n",
      "Creating model cache for 39 durations\n",
      "Searching 14327 data points, 2376 periods from 0.601 to 14.993 days\n",
      "Using all 8 CPU threads\n"
     ]
    },
    {
     "name": "stderr",
     "output_type": "stream",
     "text": [
      "100%|██████████| 2376/2376 periods | 00:17<00:00\n",
      "  2%|▏         | 210/10089 [00:00<00:04, 2093.80it/s]"
     ]
    },
    {
     "name": "stdout",
     "output_type": "stream",
     "text": [
      "Searching for best T0 for period 5.35592 days\n"
     ]
    },
    {
     "name": "stderr",
     "output_type": "stream",
     "text": [
      "100%|██████████| 10089/10089 [00:02<00:00, 4282.15it/s]\n",
      "  0%|          | 0/2376 periods | 00:00<?"
     ]
    },
    {
     "name": "stdout",
     "output_type": "stream",
     "text": [
      "Running TLS for planet 3 (sector 4)\n",
      "Transit Least Squares TLS 1.0.28 (13 June 2021)\n",
      "Creating model cache for 39 durations\n",
      "Searching 14101 data points, 2376 periods from 0.601 to 14.993 days\n",
      "Using all 8 CPU threads\n"
     ]
    },
    {
     "name": "stderr",
     "output_type": "stream",
     "text": [
      "100%|██████████| 2376/2376 periods | 00:14<00:00\n",
      "  1%|          | 140/14101 [00:00<00:10, 1390.85it/s]"
     ]
    },
    {
     "name": "stdout",
     "output_type": "stream",
     "text": [
      "Searching for best T0 for period 0.66209 days\n"
     ]
    },
    {
     "name": "stderr",
     "output_type": "stream",
     "text": [
      "100%|██████████| 14101/14101 [00:04<00:00, 3226.01it/s]\n",
      "/Users/ryancloutier/anaconda3/envs/myenv/lib/python3.8/site-packages/transitleastsquares/stats.py:456: RuntimeWarning: divide by zero encountered in double_scalars\n",
      "  snr_pink_per_transit[i] = (1 - mean_flux) / pinknoise\n",
      "  0%|          | 0/2410 periods | 00:00<?"
     ]
    },
    {
     "name": "stdout",
     "output_type": "stream",
     "text": [
      "Running TLS for planet 1 (sector 31)\n",
      "Transit Least Squares TLS 1.0.28 (13 June 2021)\n",
      "Creating model cache for 40 durations\n",
      "Searching 16538 data points, 2410 periods from 0.601 to 16.994 days\n",
      "Using all 8 CPU threads\n"
     ]
    },
    {
     "name": "stderr",
     "output_type": "stream",
     "text": [
      "100%|██████████| 2410/2410 periods | 00:17<00:00\n",
      "  1%|▏         | 176/13337 [00:00<00:07, 1756.07it/s]"
     ]
    },
    {
     "name": "stdout",
     "output_type": "stream",
     "text": [
      "Searching for best T0 for period 5.36184 days\n"
     ]
    },
    {
     "name": "stderr",
     "output_type": "stream",
     "text": [
      "100%|██████████| 13337/13337 [00:03<00:00, 4181.22it/s]\n",
      "  0%|          | 0/2410 periods | 00:00<?"
     ]
    },
    {
     "name": "stdout",
     "output_type": "stream",
     "text": [
      "Running TLS for planet 2 (sector 31)\n",
      "Transit Least Squares TLS 1.0.28 (13 June 2021)\n",
      "Creating model cache for 40 durations\n",
      "Searching 16340 data points, 2410 periods from 0.601 to 16.994 days\n",
      "Using all 8 CPU threads\n"
     ]
    },
    {
     "name": "stderr",
     "output_type": "stream",
     "text": [
      "100%|██████████| 2410/2410 periods | 00:17<00:00\n",
      "  2%|▏         | 160/9963 [00:00<00:06, 1598.99it/s]"
     ]
    },
    {
     "name": "stdout",
     "output_type": "stream",
     "text": [
      "Searching for best T0 for period 3.12477 days\n"
     ]
    },
    {
     "name": "stderr",
     "output_type": "stream",
     "text": [
      "100%|██████████| 9963/9963 [00:02<00:00, 3795.11it/s]\n",
      "  0%|          | 0/2410 periods | 00:00<?"
     ]
    },
    {
     "name": "stdout",
     "output_type": "stream",
     "text": [
      "Running TLS for planet 3 (sector 31)\n",
      "Transit Least Squares TLS 1.0.28 (13 June 2021)\n",
      "Creating model cache for 40 durations\n",
      "Searching 16013 data points, 2410 periods from 0.601 to 16.994 days\n",
      "Using all 8 CPU threads\n"
     ]
    },
    {
     "name": "stderr",
     "output_type": "stream",
     "text": [
      "100%|██████████| 2410/2410 periods | 00:16<00:00\n"
     ]
    }
   ],
   "source": [
    "# just do it\n",
    "tic = 98796344\n",
    "ts = ps.run_full_planet_search(tic)"
   ]
  },
  {
   "cell_type": "code",
   "execution_count": null,
   "metadata": {},
   "outputs": [],
   "source": []
  }
 ],
 "metadata": {
  "kernelspec": {
   "display_name": "Python 3",
   "language": "python",
   "name": "python3"
  },
  "language_info": {
   "codemirror_mode": {
    "name": "ipython",
    "version": 3
   },
   "file_extension": ".py",
   "mimetype": "text/x-python",
   "name": "python",
   "nbconvert_exporter": "python",
   "pygments_lexer": "ipython3",
   "version": "3.8.2"
  }
 },
 "nbformat": 4,
 "nbformat_minor": 4
}
