{
 "cells": [
  {
   "cell_type": "code",
   "execution_count": 1,
   "metadata": {},
   "outputs": [],
   "source": [
    "import numpy as np\n",
    "import pylab as plt\n",
    "import planet_search as ps"
   ]
  },
  {
   "cell_type": "code",
   "execution_count": 2,
   "metadata": {},
   "outputs": [
    {
     "name": "stderr",
     "output_type": "stream",
     "text": [
      "\r",
      "  0%|          | 0/2309 periods | 00:00<?"
     ]
    },
    {
     "name": "stdout",
     "output_type": "stream",
     "text": [
      "Running TLS for planet 1 (sector 4)\n",
      "Transit Least Squares TLS 1.0.28 (13 June 2021)\n",
      "Creating model cache for 38 durations\n",
      "Searching 14707 data points, 2309 periods from 0.601 to 12.804 days\n",
      "Using all 8 CPU threads\n"
     ]
    },
    {
     "name": "stderr",
     "output_type": "stream",
     "text": [
      "100%|██████████| 2309/2309 periods | 00:16<00:00\n",
      "  0%|          | 0/6205 [00:00<?, ?it/s]"
     ]
    },
    {
     "name": "stdout",
     "output_type": "stream",
     "text": [
      "Searching for best T0 for period 1.56217 days\n"
     ]
    },
    {
     "name": "stderr",
     "output_type": "stream",
     "text": [
      "100%|██████████| 6205/6205 [00:02<00:00, 2930.88it/s]\n",
      "  0%|          | 0/2309 periods | 00:00<?"
     ]
    },
    {
     "name": "stdout",
     "output_type": "stream",
     "text": [
      "Running TLS for planet 2 (sector 4)\n",
      "Transit Least Squares TLS 1.0.28 (13 June 2021)\n",
      "Creating model cache for 38 durations\n",
      "Searching 14329 data points, 2309 periods from 0.601 to 12.804 days\n",
      "Using all 8 CPU threads\n"
     ]
    },
    {
     "name": "stderr",
     "output_type": "stream",
     "text": [
      "100%|██████████| 2309/2309 periods | 00:21<00:00\n",
      "  2%|▏         | 169/9068 [00:00<00:05, 1679.47it/s]"
     ]
    },
    {
     "name": "stdout",
     "output_type": "stream",
     "text": [
      "Searching for best T0 for period 5.35798 days\n"
     ]
    },
    {
     "name": "stderr",
     "output_type": "stream",
     "text": [
      "100%|██████████| 9068/9068 [00:02<00:00, 3376.88it/s]\n",
      "  0%|          | 0/2309 periods | 00:00<?"
     ]
    },
    {
     "name": "stdout",
     "output_type": "stream",
     "text": [
      "Running TLS for planet 3 (sector 4)\n",
      "Transit Least Squares TLS 1.0.28 (13 June 2021)\n",
      "Creating model cache for 38 durations\n",
      "Searching 14077 data points, 2309 periods from 0.601 to 12.804 days\n",
      "Using all 8 CPU threads\n"
     ]
    },
    {
     "name": "stderr",
     "output_type": "stream",
     "text": [
      "100%|██████████| 2309/2309 periods | 00:19<00:00\n",
      "  1%|          | 125/12135 [00:00<00:09, 1239.40it/s]"
     ]
    },
    {
     "name": "stdout",
     "output_type": "stream",
     "text": [
      "Searching for best T0 for period 0.66222 days\n"
     ]
    },
    {
     "name": "stderr",
     "output_type": "stream",
     "text": [
      "100%|██████████| 12135/12135 [00:04<00:00, 2518.00it/s]\n",
      "  0%|          | 0/2290 periods | 00:00<?"
     ]
    },
    {
     "name": "stdout",
     "output_type": "stream",
     "text": [
      "Running TLS for planet 1 (sector 31)\n",
      "Transit Least Squares TLS 1.0.28 (13 June 2021)\n",
      "Creating model cache for 37 durations\n",
      "Searching 16538 data points, 2290 periods from 0.601 to 12.714 days\n",
      "Using all 8 CPU threads\n"
     ]
    },
    {
     "name": "stderr",
     "output_type": "stream",
     "text": [
      "100%|██████████| 2290/2290 periods | 00:23<00:00\n",
      "  1%|▏         | 157/10952 [00:00<00:06, 1560.51it/s]"
     ]
    },
    {
     "name": "stdout",
     "output_type": "stream",
     "text": [
      "Searching for best T0 for period 5.35699 days\n"
     ]
    },
    {
     "name": "stderr",
     "output_type": "stream",
     "text": [
      "100%|██████████| 10952/10952 [00:03<00:00, 2956.47it/s]\n",
      "  0%|          | 0/2290 periods | 00:00<?"
     ]
    },
    {
     "name": "stdout",
     "output_type": "stream",
     "text": [
      "Running TLS for planet 2 (sector 31)\n",
      "Transit Least Squares TLS 1.0.28 (13 June 2021)\n",
      "Creating model cache for 37 durations\n",
      "Searching 16295 data points, 2290 periods from 0.601 to 12.714 days\n",
      "Using all 8 CPU threads\n"
     ]
    },
    {
     "name": "stderr",
     "output_type": "stream",
     "text": [
      "100%|██████████| 2290/2290 periods | 00:20<00:00\n",
      "  2%|▏         | 156/9052 [00:00<00:05, 1553.35it/s]"
     ]
    },
    {
     "name": "stdout",
     "output_type": "stream",
     "text": [
      "Searching for best T0 for period 2.93154 days\n"
     ]
    },
    {
     "name": "stderr",
     "output_type": "stream",
     "text": [
      "100%|██████████| 9052/9052 [00:02<00:00, 3341.33it/s]\n",
      "  0%|          | 0/2290 periods | 00:00<?"
     ]
    },
    {
     "name": "stdout",
     "output_type": "stream",
     "text": [
      "Running TLS for planet 3 (sector 31)\n",
      "Transit Least Squares TLS 1.0.28 (13 June 2021)\n",
      "Creating model cache for 37 durations\n",
      "Searching 15949 data points, 2290 periods from 0.601 to 12.714 days\n",
      "Using all 8 CPU threads\n"
     ]
    },
    {
     "name": "stderr",
     "output_type": "stream",
     "text": [
      "100%|██████████| 2290/2290 periods | 00:18<00:00\n"
     ]
    }
   ],
   "source": [
    "# just do it\n",
    "tic = 98796344\n",
    "ts = ps.run_full_planet_search(tic)"
   ]
  },
  {
   "cell_type": "code",
   "execution_count": 123,
   "metadata": {},
   "outputs": [],
   "source": [
    "# try getting periods recovered for a given lc\n",
    "Pmax = np.arange(6,50)\n",
    "N = 500\n",
    "Ntransits_covered = np.zeros((np.unique(ts.lc.sectors).size,len(Pmax),N))\n",
    "\n",
    "# for each maximum period \n",
    "for si,s in enumerate(np.unique(ts.lc.sectors)):\n",
    "    g = ts.lc.sectors == s\n",
    "    for i,p in enumerate(Pmax):\n",
    "        # for random phases\n",
    "        for j,t0 in enumerate(np.random.uniform(ts.lc.bjd[g].min(), ts.lc.bjd[g].min()+Pmax.max(), N)):\n",
    "            # how many mid-transits are covered by the LC?\n",
    "            Ntransits_covered[si,i,j] = np.sum(abs(rvs.foldAt(ts.lc.bjd[g], p, t0)) < .5*2/60/24/p)\n",
    "            #for n in np.arange(-3,4):\n",
    "            #    Ntransits_covered[si,i,j] += np.sum(abs(ts.lc.bjd[g]-(t0+n*p)) < 2/60/24)"
   ]
  },
  {
   "cell_type": "code",
   "execution_count": 124,
   "metadata": {},
   "outputs": [
    {
     "data": {
      "image/png": "[encoded data removed]",
      "text/plain": [
       "<Figure size 432x288 with 1 Axes>"
      ]
     },
     "metadata": {
      "needs_background": "light"
     },
     "output_type": "display_data"
    }
   ],
   "source": [
    "for s,_ in enumerate(np.unique(ts.lc.sectors)):\n",
    "    plt.plot(Pmax, np.mean(Ntransits_covered[s],1), '-')\n",
    "plt.grid(color='k', lw=.1)\n",
    "plt.axhline(2, color='')"
   ]
  },
  {
   "cell_type": "code",
   "execution_count": 112,
   "metadata": {},
   "outputs": [
    {
     "data": {
      "text/plain": [
       "(2.116396046600332, 26, 1)"
      ]
     },
     "execution_count": 112,
     "metadata": {},
     "output_type": "execute_result"
    }
   ],
   "source": [
    "t0,p,np.sum(abs(rvs.foldAt(ts.lc.bjd[g], p, t0)) < 1/60/24/p)"
   ]
  },
  {
   "cell_type": "code",
   "execution_count": 113,
   "metadata": {},
   "outputs": [
    {
     "data": {
      "text/plain": [
       "(array([1.75168344e-05, 3.59015002e-05, 7.09351689e-05, ...,\n",
       "        4.99927709e-01, 4.99965453e-01, 4.99981128e-01]),\n",
       " 2.670940170940171e-05)"
      ]
     },
     "execution_count": 113,
     "metadata": {},
     "output_type": "execute_result"
    }
   ],
   "source": [
    "np.sort(abs(rvs.foldAt(ts.lc.bjd[g], p, t0))), 1/60/24/p"
   ]
  },
  {
   "cell_type": "code",
   "execution_count": 114,
   "metadata": {},
   "outputs": [
    {
     "data": {
      "image/png": "[encoded data removed]",
      "text/plain": [
       "<Figure size 432x288 with 1 Axes>"
      ]
     },
     "metadata": {
      "needs_background": "light"
     },
     "output_type": "display_data"
    }
   ],
   "source": [
    "plt.plot(ts.lc.bjd[g], ts.lc.fdetrend[g], lw=.2)\n",
    "for i in np.arange(-1,3):\n",
    "    plt.axvline(t0+ts.lc.+i*p, color='k')"
   ]
  },
  {
   "cell_type": "code",
   "execution_count": null,
   "metadata": {},
   "outputs": [],
   "source": []
  }
 ],
 "metadata": {
  "kernelspec": {
   "display_name": "Python 3",
   "language": "python",
   "name": "python3"
  },
  "language_info": {
   "codemirror_mode": {
    "name": "ipython",
    "version": 3
   },
   "file_extension": ".py",
   "mimetype": "text/x-python",
   "name": "python",
   "nbconvert_exporter": "python",
   "pygments_lexer": "ipython3",
   "version": "3.8.2"
  }
 },
 "nbformat": 4,
 "nbformat_minor": 4
}
